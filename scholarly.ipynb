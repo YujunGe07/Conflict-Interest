{
 "cells": [
  {
   "cell_type": "code",
   "execution_count": 3,
   "metadata": {},
   "outputs": [
    {
     "name": "stdout",
     "output_type": "stream",
     "text": [
      "Requirement already satisfied: scholarly in /Library/Frameworks/Python.framework/Versions/3.11/lib/python3.11/site-packages (1.7.11)\n",
      "Requirement already satisfied: arrow in /Library/Frameworks/Python.framework/Versions/3.11/lib/python3.11/site-packages (from scholarly) (1.3.0)\n",
      "Requirement already satisfied: beautifulsoup4 in /Library/Frameworks/Python.framework/Versions/3.11/lib/python3.11/site-packages (from scholarly) (4.11.1)\n",
      "Requirement already satisfied: bibtexparser in /Library/Frameworks/Python.framework/Versions/3.11/lib/python3.11/site-packages (from scholarly) (1.4.1)\n",
      "Requirement already satisfied: deprecated in /Library/Frameworks/Python.framework/Versions/3.11/lib/python3.11/site-packages (from scholarly) (1.2.14)\n",
      "Requirement already satisfied: fake-useragent in /Library/Frameworks/Python.framework/Versions/3.11/lib/python3.11/site-packages (from scholarly) (1.5.1)\n",
      "Requirement already satisfied: free-proxy in /Library/Frameworks/Python.framework/Versions/3.11/lib/python3.11/site-packages (from scholarly) (1.1.1)\n",
      "Requirement already satisfied: httpx in /Library/Frameworks/Python.framework/Versions/3.11/lib/python3.11/site-packages (from scholarly) (0.27.0)\n",
      "Requirement already satisfied: python-dotenv in /Library/Frameworks/Python.framework/Versions/3.11/lib/python3.11/site-packages (from scholarly) (1.0.1)\n",
      "Requirement already satisfied: requests[socks] in /Library/Frameworks/Python.framework/Versions/3.11/lib/python3.11/site-packages (from scholarly) (2.28.2)\n",
      "Requirement already satisfied: selenium in /Library/Frameworks/Python.framework/Versions/3.11/lib/python3.11/site-packages (from scholarly) (4.22.0)\n",
      "Requirement already satisfied: sphinx-rtd-theme in /Library/Frameworks/Python.framework/Versions/3.11/lib/python3.11/site-packages (from scholarly) (2.0.0)\n",
      "Requirement already satisfied: typing-extensions in /Library/Frameworks/Python.framework/Versions/3.11/lib/python3.11/site-packages (from scholarly) (4.12.2)\n",
      "Requirement already satisfied: python-dateutil>=2.7.0 in /Library/Frameworks/Python.framework/Versions/3.11/lib/python3.11/site-packages (from arrow->scholarly) (2.8.2)\n",
      "Requirement already satisfied: types-python-dateutil>=2.8.10 in /Library/Frameworks/Python.framework/Versions/3.11/lib/python3.11/site-packages (from arrow->scholarly) (2.9.0.20240316)\n",
      "Requirement already satisfied: soupsieve>1.2 in /Library/Frameworks/Python.framework/Versions/3.11/lib/python3.11/site-packages (from beautifulsoup4->scholarly) (2.3.2.post1)\n",
      "Requirement already satisfied: pyparsing>=2.0.3 in /Library/Frameworks/Python.framework/Versions/3.11/lib/python3.11/site-packages (from bibtexparser->scholarly) (3.0.9)\n",
      "Requirement already satisfied: wrapt<2,>=1.10 in /Library/Frameworks/Python.framework/Versions/3.11/lib/python3.11/site-packages (from deprecated->scholarly) (1.16.0)\n",
      "Requirement already satisfied: lxml in /Library/Frameworks/Python.framework/Versions/3.11/lib/python3.11/site-packages (from free-proxy->scholarly) (5.2.2)\n",
      "Requirement already satisfied: anyio in /Library/Frameworks/Python.framework/Versions/3.11/lib/python3.11/site-packages (from httpx->scholarly) (3.6.2)\n",
      "Requirement already satisfied: certifi in /Library/Frameworks/Python.framework/Versions/3.11/lib/python3.11/site-packages (from httpx->scholarly) (2022.9.24)\n",
      "Requirement already satisfied: httpcore==1.* in /Library/Frameworks/Python.framework/Versions/3.11/lib/python3.11/site-packages (from httpx->scholarly) (1.0.5)\n",
      "Requirement already satisfied: idna in /Library/Frameworks/Python.framework/Versions/3.11/lib/python3.11/site-packages (from httpx->scholarly) (3.4)\n",
      "Requirement already satisfied: sniffio in /Library/Frameworks/Python.framework/Versions/3.11/lib/python3.11/site-packages (from httpx->scholarly) (1.3.0)\n",
      "Requirement already satisfied: h11<0.15,>=0.13 in /Library/Frameworks/Python.framework/Versions/3.11/lib/python3.11/site-packages (from httpcore==1.*->httpx->scholarly) (0.14.0)\n",
      "Requirement already satisfied: charset-normalizer<4,>=2 in /Library/Frameworks/Python.framework/Versions/3.11/lib/python3.11/site-packages (from requests[socks]->scholarly) (3.0.1)\n",
      "Requirement already satisfied: urllib3<1.27,>=1.21.1 in /Library/Frameworks/Python.framework/Versions/3.11/lib/python3.11/site-packages (from requests[socks]->scholarly) (1.26.14)\n",
      "Requirement already satisfied: PySocks!=1.5.7,>=1.5.6 in /Library/Frameworks/Python.framework/Versions/3.11/lib/python3.11/site-packages (from requests[socks]->scholarly) (1.7.1)\n",
      "Requirement already satisfied: trio~=0.17 in /Library/Frameworks/Python.framework/Versions/3.11/lib/python3.11/site-packages (from selenium->scholarly) (0.26.0)\n",
      "Requirement already satisfied: trio-websocket~=0.9 in /Library/Frameworks/Python.framework/Versions/3.11/lib/python3.11/site-packages (from selenium->scholarly) (0.11.1)\n",
      "Requirement already satisfied: websocket-client>=1.8.0 in /Library/Frameworks/Python.framework/Versions/3.11/lib/python3.11/site-packages (from selenium->scholarly) (1.8.0)\n",
      "Requirement already satisfied: sphinx<8,>=5 in /Library/Frameworks/Python.framework/Versions/3.11/lib/python3.11/site-packages (from sphinx-rtd-theme->scholarly) (7.3.7)\n",
      "Requirement already satisfied: docutils<0.21 in /Library/Frameworks/Python.framework/Versions/3.11/lib/python3.11/site-packages (from sphinx-rtd-theme->scholarly) (0.20.1)\n",
      "Requirement already satisfied: sphinxcontrib-jquery<5,>=4 in /Library/Frameworks/Python.framework/Versions/3.11/lib/python3.11/site-packages (from sphinx-rtd-theme->scholarly) (4.1)\n",
      "Requirement already satisfied: six>=1.5 in /Library/Frameworks/Python.framework/Versions/3.11/lib/python3.11/site-packages (from python-dateutil>=2.7.0->arrow->scholarly) (1.16.0)\n",
      "Requirement already satisfied: sphinxcontrib-applehelp in /Library/Frameworks/Python.framework/Versions/3.11/lib/python3.11/site-packages (from sphinx<8,>=5->sphinx-rtd-theme->scholarly) (1.0.8)\n",
      "Requirement already satisfied: sphinxcontrib-devhelp in /Library/Frameworks/Python.framework/Versions/3.11/lib/python3.11/site-packages (from sphinx<8,>=5->sphinx-rtd-theme->scholarly) (1.0.6)\n",
      "Requirement already satisfied: sphinxcontrib-jsmath in /Library/Frameworks/Python.framework/Versions/3.11/lib/python3.11/site-packages (from sphinx<8,>=5->sphinx-rtd-theme->scholarly) (1.0.1)\n",
      "Requirement already satisfied: sphinxcontrib-htmlhelp>=2.0.0 in /Library/Frameworks/Python.framework/Versions/3.11/lib/python3.11/site-packages (from sphinx<8,>=5->sphinx-rtd-theme->scholarly) (2.0.5)\n",
      "Requirement already satisfied: sphinxcontrib-serializinghtml>=1.1.9 in /Library/Frameworks/Python.framework/Versions/3.11/lib/python3.11/site-packages (from sphinx<8,>=5->sphinx-rtd-theme->scholarly) (1.1.10)\n",
      "Requirement already satisfied: sphinxcontrib-qthelp in /Library/Frameworks/Python.framework/Versions/3.11/lib/python3.11/site-packages (from sphinx<8,>=5->sphinx-rtd-theme->scholarly) (1.0.7)\n",
      "Requirement already satisfied: Jinja2>=3.0 in /Library/Frameworks/Python.framework/Versions/3.11/lib/python3.11/site-packages (from sphinx<8,>=5->sphinx-rtd-theme->scholarly) (3.1.2)\n",
      "Requirement already satisfied: Pygments>=2.14 in /Library/Frameworks/Python.framework/Versions/3.11/lib/python3.11/site-packages (from sphinx<8,>=5->sphinx-rtd-theme->scholarly) (2.18.0)\n",
      "Requirement already satisfied: snowballstemmer>=2.0 in /Library/Frameworks/Python.framework/Versions/3.11/lib/python3.11/site-packages (from sphinx<8,>=5->sphinx-rtd-theme->scholarly) (2.2.0)\n",
      "Requirement already satisfied: babel>=2.9 in /Library/Frameworks/Python.framework/Versions/3.11/lib/python3.11/site-packages (from sphinx<8,>=5->sphinx-rtd-theme->scholarly) (2.15.0)\n",
      "Requirement already satisfied: alabaster~=0.7.14 in /Library/Frameworks/Python.framework/Versions/3.11/lib/python3.11/site-packages (from sphinx<8,>=5->sphinx-rtd-theme->scholarly) (0.7.16)\n",
      "Requirement already satisfied: imagesize>=1.3 in /Library/Frameworks/Python.framework/Versions/3.11/lib/python3.11/site-packages (from sphinx<8,>=5->sphinx-rtd-theme->scholarly) (1.4.1)\n",
      "Requirement already satisfied: packaging>=21.0 in /Library/Frameworks/Python.framework/Versions/3.11/lib/python3.11/site-packages (from sphinx<8,>=5->sphinx-rtd-theme->scholarly) (21.3)\n",
      "Requirement already satisfied: attrs>=23.2.0 in /Library/Frameworks/Python.framework/Versions/3.11/lib/python3.11/site-packages (from trio~=0.17->selenium->scholarly) (23.2.0)\n",
      "Requirement already satisfied: sortedcontainers in /Library/Frameworks/Python.framework/Versions/3.11/lib/python3.11/site-packages (from trio~=0.17->selenium->scholarly) (2.4.0)\n",
      "Requirement already satisfied: outcome in /Library/Frameworks/Python.framework/Versions/3.11/lib/python3.11/site-packages (from trio~=0.17->selenium->scholarly) (1.3.0.post0)\n",
      "Requirement already satisfied: wsproto>=0.14 in /Library/Frameworks/Python.framework/Versions/3.11/lib/python3.11/site-packages (from trio-websocket~=0.9->selenium->scholarly) (1.2.0)\n",
      "Requirement already satisfied: MarkupSafe>=2.0 in /Library/Frameworks/Python.framework/Versions/3.11/lib/python3.11/site-packages (from Jinja2>=3.0->sphinx<8,>=5->sphinx-rtd-theme->scholarly) (2.1.1)\n",
      "\n",
      "\u001b[1m[\u001b[0m\u001b[34;49mnotice\u001b[0m\u001b[1;39;49m]\u001b[0m\u001b[39;49m A new release of pip is available: \u001b[0m\u001b[31;49m23.3.1\u001b[0m\u001b[39;49m -> \u001b[0m\u001b[32;49m24.1.2\u001b[0m\n",
      "\u001b[1m[\u001b[0m\u001b[34;49mnotice\u001b[0m\u001b[1;39;49m]\u001b[0m\u001b[39;49m To update, run: \u001b[0m\u001b[32;49mpip3 install --upgrade pip\u001b[0m\n",
      "Note: you may need to restart the kernel to use updated packages.\n"
     ]
    }
   ],
   "source": [
    "pip install scholarly"
   ]
  },
  {
   "cell_type": "code",
   "execution_count": 8,
   "metadata": {},
   "outputs": [
    {
     "name": "stdout",
     "output_type": "stream",
     "text": [
      "Found author: Dennis DeCoste\n",
      "Total publications found: 89\n",
      "Co-authors in the last 1 years: {'Sean Lie', 'Shreyas Saxena', 'William Marshall', 'Joel Hestness', 'Tianda Li', 'Vitaliy Chiley', 'Abhay Gupta', 'Vithursan Thangarasa', 'Kevin Leong', 'Anshul Samar'}\n"
     ]
    }
   ],
   "source": [
    "import json\n",
    "import shelve\n",
    "import time\n",
    "from datetime import datetime\n",
    "from concurrent.futures import ThreadPoolExecutor\n",
    "from scholarly import scholarly\n",
    "\n",
    "CACHE_FILE = 'scholarly_cache.db'\n",
    "\n",
    "def get_author_info(author_name):\n",
    "    search_query = scholarly.search_author(author_name)\n",
    "    try:\n",
    "        author = next(search_query)\n",
    "        return scholarly.fill(author)\n",
    "    except StopIteration:\n",
    "        print(f\"No author found for name: {author_name}\")\n",
    "        return None\n",
    "\n",
    "def fill_publication(pub):\n",
    "    with shelve.open(CACHE_FILE) as cache:\n",
    "        if pub['author_pub_id'] in cache:\n",
    "            return cache[pub['author_pub_id']]\n",
    "        filled_pub = scholarly.fill(pub)\n",
    "        cache[pub['author_pub_id']] = filled_pub\n",
    "        return filled_pub\n",
    "\n",
    "def extract_coauthors(author_info, years):\n",
    "    current_year = datetime.now().year\n",
    "    coauthors = set()\n",
    "\n",
    "    def process_publication(pub):\n",
    "        try:\n",
    "            pub = fill_publication(pub)\n",
    "            pub_year = pub['bib'].get('pub_year')\n",
    "            if pub_year and isinstance(pub_year, int) and current_year - pub_year <= years:\n",
    "                authors = pub['bib'].get('author', '')\n",
    "                if authors:\n",
    "                    coauthors.update(authors.split(' and '))\n",
    "        except Exception as e:\n",
    "            print(f\"Error filling publication details: {e}\")\n",
    "\n",
    "    with ThreadPoolExecutor(max_workers=5) as executor:\n",
    "        executor.map(process_publication, author_info['publications'])\n",
    "\n",
    "    return coauthors\n",
    "\n",
    "def main():\n",
    "    author_name = input(\"Enter the author's name: \")\n",
    "    years = int(input(\"Enter the number of years to look back for co-authorship: \"))\n",
    "\n",
    "    author_info = get_author_info(author_name)\n",
    "    if author_info:\n",
    "        print(f\"Found author: {author_info['name']}\")\n",
    "        print(f\"Total publications found: {len(author_info['publications'])}\")\n",
    "\n",
    "        coauthors = extract_coauthors(author_info, years)\n",
    "        coauthors.discard(author_info['name'])\n",
    "        print(f\"Co-authors in the last {years} years: {coauthors}\")\n",
    "    else:\n",
    "        print(f\"Unable to retrieve information for author: {author_name}\")\n",
    "\n",
    "if __name__ == \"__main__\":\n",
    "    main()\n"
   ]
  }
 ],
 "metadata": {
  "kernelspec": {
   "display_name": "Python 3",
   "language": "python",
   "name": "python3"
  },
  "language_info": {
   "codemirror_mode": {
    "name": "ipython",
    "version": 3
   },
   "file_extension": ".py",
   "mimetype": "text/x-python",
   "name": "python",
   "nbconvert_exporter": "python",
   "pygments_lexer": "ipython3",
   "version": "3.11.0"
  },
  "orig_nbformat": 4,
  "vscode": {
   "interpreter": {
    "hash": "aee8b7b246df8f9039afb4144a1f6fd8d2ca17a180786b69acc140d282b71a49"
   }
  }
 },
 "nbformat": 4,
 "nbformat_minor": 2
}
